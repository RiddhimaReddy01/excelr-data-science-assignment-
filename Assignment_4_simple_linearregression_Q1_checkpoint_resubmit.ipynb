{
  "cells": [
    {
      "cell_type": "code",
      "execution_count": 6,
      "id": "fa251135",
      "metadata": {
        "id": "fa251135"
      },
      "outputs": [],
      "source": [
        "import pandas as pd\n",
        "import numpy as np\n",
        "import matplotlib.pyplot as plt\n",
        "import seaborn as sns\n",
        "from sklearn.linear_model import LinearRegression\n",
        "from sklearn.model_selection import train_test_split\n",
        "from scipy import stats"
      ]
    },
    {
      "cell_type": "code",
      "execution_count": 7,
      "id": "96718c2c",
      "metadata": {
        "id": "96718c2c"
      },
      "outputs": [],
      "source": [
        "df = pd.read_csv(r\"C:\\Users\\Riddhima\\Downloads\\delivery_time.csv\")"
      ]
    },
    {
      "cell_type": "code",
      "execution_count": 8,
      "id": "e09fb995",
      "metadata": {
        "id": "e09fb995",
        "outputId": "5f0faebb-aeed-43c3-945f-1012063070b0"
      },
      "outputs": [
        {
          "data": {
            "text/html": [
              "<div>\n",
              "<style scoped>\n",
              "    .dataframe tbody tr th:only-of-type {\n",
              "        vertical-align: middle;\n",
              "    }\n",
              "\n",
              "    .dataframe tbody tr th {\n",
              "        vertical-align: top;\n",
              "    }\n",
              "\n",
              "    .dataframe thead th {\n",
              "        text-align: right;\n",
              "    }\n",
              "</style>\n",
              "<table border=\"1\" class=\"dataframe\">\n",
              "  <thead>\n",
              "    <tr style=\"text-align: right;\">\n",
              "      <th></th>\n",
              "      <th>Delivery Time</th>\n",
              "      <th>Sorting Time</th>\n",
              "    </tr>\n",
              "  </thead>\n",
              "  <tbody>\n",
              "    <tr>\n",
              "      <th>0</th>\n",
              "      <td>21.00</td>\n",
              "      <td>10</td>\n",
              "    </tr>\n",
              "    <tr>\n",
              "      <th>1</th>\n",
              "      <td>13.50</td>\n",
              "      <td>4</td>\n",
              "    </tr>\n",
              "    <tr>\n",
              "      <th>2</th>\n",
              "      <td>19.75</td>\n",
              "      <td>6</td>\n",
              "    </tr>\n",
              "    <tr>\n",
              "      <th>3</th>\n",
              "      <td>24.00</td>\n",
              "      <td>9</td>\n",
              "    </tr>\n",
              "    <tr>\n",
              "      <th>4</th>\n",
              "      <td>29.00</td>\n",
              "      <td>10</td>\n",
              "    </tr>\n",
              "  </tbody>\n",
              "</table>\n",
              "</div>"
            ],
            "text/plain": [
              "   Delivery Time  Sorting Time\n",
              "0          21.00            10\n",
              "1          13.50             4\n",
              "2          19.75             6\n",
              "3          24.00             9\n",
              "4          29.00            10"
            ]
          },
          "execution_count": 8,
          "metadata": {},
          "output_type": "execute_result"
        }
      ],
      "source": [
        "df.head()"
      ]
    },
    {
      "cell_type": "code",
      "execution_count": 9,
      "id": "52099fa5",
      "metadata": {
        "id": "52099fa5",
        "outputId": "70bd1d94-7847-40ef-8acd-790975ee2624"
      },
      "outputs": [
        {
          "data": {
            "text/plain": [
              "Delivery Time    0\n",
              "Sorting Time     0\n",
              "dtype: int64"
            ]
          },
          "execution_count": 9,
          "metadata": {},
          "output_type": "execute_result"
        }
      ],
      "source": [
        "df.isna().sum()"
      ]
    },
    {
      "cell_type": "code",
      "execution_count": 10,
      "id": "8d254b93",
      "metadata": {
        "id": "8d254b93",
        "outputId": "963ac305-4ed3-4994-d567-8c6189e09240"
      },
      "outputs": [
        {
          "data": {
            "text/plain": [
              "<Axes: xlabel='Sorting Time', ylabel='Delivery Time'>"
            ]
          },
          "execution_count": 10,
          "metadata": {},
          "output_type": "execute_result"
        },
        {
          "data": {
            "image/png": "[encoded data removed]",
            "text/plain": [
              "<Figure size 640x480 with 1 Axes>"
            ]
          },
          "metadata": {},
          "output_type": "display_data"
        }
      ],
      "source": [
        "sns.scatterplot(x=df[\"Sorting Time\"],y=df[\"Delivery Time\"])"
      ]
    },
    {
      "cell_type": "code",
      "execution_count": 11,
      "id": "10211258",
      "metadata": {
        "id": "10211258",
        "outputId": "0e3fd4a5-6669-4d3a-a397-d391bb757c25"
      },
      "outputs": [
        {
          "data": {
            "text/html": [
              "<div>\n",
              "<style scoped>\n",
              "    .dataframe tbody tr th:only-of-type {\n",
              "        vertical-align: middle;\n",
              "    }\n",
              "\n",
              "    .dataframe tbody tr th {\n",
              "        vertical-align: top;\n",
              "    }\n",
              "\n",
              "    .dataframe thead th {\n",
              "        text-align: right;\n",
              "    }\n",
              "</style>\n",
              "<table border=\"1\" class=\"dataframe\">\n",
              "  <thead>\n",
              "    <tr style=\"text-align: right;\">\n",
              "      <th></th>\n",
              "      <th>Delivery Time</th>\n",
              "      <th>Sorting Time</th>\n",
              "    </tr>\n",
              "  </thead>\n",
              "  <tbody>\n",
              "    <tr>\n",
              "      <th>Delivery Time</th>\n",
              "      <td>1.000000</td>\n",
              "      <td>0.825997</td>\n",
              "    </tr>\n",
              "    <tr>\n",
              "      <th>Sorting Time</th>\n",
              "      <td>0.825997</td>\n",
              "      <td>1.000000</td>\n",
              "    </tr>\n",
              "  </tbody>\n",
              "</table>\n",
              "</div>"
            ],
            "text/plain": [
              "               Delivery Time  Sorting Time\n",
              "Delivery Time       1.000000      0.825997\n",
              "Sorting Time        0.825997      1.000000"
            ]
          },
          "execution_count": 11,
          "metadata": {},
          "output_type": "execute_result"
        }
      ],
      "source": [
        "df.corr()"
      ]
    },
    {
      "cell_type": "code",
      "execution_count": 12,
      "id": "8f2f475e",
      "metadata": {
        "id": "8f2f475e",
        "outputId": "ba03b581-c2f7-424e-a91f-c9bc3c71e6dd"
      },
      "outputs": [
        {
          "name": "stdout",
          "output_type": "stream",
          "text": [
            "Dimension:  2\n",
            "Shape:  (21, 1)\n"
          ]
        }
      ],
      "source": [
        "x = np.array(df[\"Sorting Time\"]).reshape(-1,1)\n",
        "print(\"Dimension: \",x.ndim)\n",
        "print(\"Shape: \",x.shape)"
      ]
    },
    {
      "cell_type": "code",
      "execution_count": 13,
      "id": "7c470cde",
      "metadata": {
        "id": "7c470cde",
        "outputId": "399cdafc-4f86-4246-a07e-eb56cf33329b"
      },
      "outputs": [
        {
          "name": "stdout",
          "output_type": "stream",
          "text": [
            "Dimension:  2\n",
            "Shape:  (21, 1)\n"
          ]
        }
      ],
      "source": [
        "y=np.array(df[\"Delivery Time\"]).reshape(-1,1)\n",
        "print(\"Dimension: \",y.ndim)\n",
        "print(\"Shape: \",y.shape)"
      ]
    },
    {
      "cell_type": "code",
      "execution_count": 14,
      "id": "1815f1be",
      "metadata": {
        "id": "1815f1be"
      },
      "outputs": [],
      "source": [
        "x_train,x_test,y_train,y_test=train_test_split(x,y,test_size=0.2)\n"
      ]
    },
    {
      "cell_type": "code",
      "execution_count": 15,
      "id": "924a0abb",
      "metadata": {
        "id": "924a0abb",
        "outputId": "39185042-26ed-42c1-9bf0-19a1461c2517"
      },
      "outputs": [
        {
          "name": "stdout",
          "output_type": "stream",
          "text": [
            "Lenth of X_train:  16\n",
            "Lenth of X_test:  5\n",
            "Lenth of Y_train:  16\n",
            "Lenth of Y_test:  5\n"
          ]
        }
      ],
      "source": [
        "print(\"Lenth of X_train: \",len(x_train))\n",
        "print(\"Lenth of X_test: \",len(x_test))\n",
        "print(\"Lenth of Y_train: \",len(y_train))\n",
        "print(\"Lenth of Y_test: \",len(y_test))"
      ]
    },
    {
      "cell_type": "code",
      "execution_count": 16,
      "id": "7fb9254b",
      "metadata": {
        "id": "7fb9254b",
        "outputId": "a5041672-9f15-4f39-e93a-e06d80f86e33"
      },
      "outputs": [
        {
          "data": {
            "text/plain": [
              "array([[10],\n",
              "       [ 8],\n",
              "       [ 7],\n",
              "       [ 7],\n",
              "       [ 3]], dtype=int64)"
            ]
          },
          "execution_count": 16,
          "metadata": {},
          "output_type": "execute_result"
        }
      ],
      "source": [
        "x_test"
      ]
    },
    {
      "cell_type": "code",
      "execution_count": 17,
      "id": "2d0950a2",
      "metadata": {
        "id": "2d0950a2",
        "outputId": "24d584e2-f7f5-4eaa-97d3-26795f04f592"
      },
      "outputs": [
        {
          "data": {
            "text/plain": [
              "array([[21.  ],\n",
              "       [19.83],\n",
              "       [18.11],\n",
              "       [17.83],\n",
              "       [ 9.5 ]])"
            ]
          },
          "execution_count": 17,
          "metadata": {},
          "output_type": "execute_result"
        }
      ],
      "source": [
        "y_test"
      ]
    },
    {
      "cell_type": "code",
      "execution_count": 18,
      "id": "05b1931f",
      "metadata": {
        "id": "05b1931f",
        "outputId": "2e519a58-4b8e-4c39-e0bb-d56c4175f505"
      },
      "outputs": [],
      "source": [
        "LR = LinearRegression()\n",
        "LR.fit(x_train,y_train)\n",
        "score={}"
      ]
    },
    {
      "cell_type": "code",
      "execution_count": 19,
      "id": "762d8f33",
      "metadata": {
        "id": "762d8f33",
        "outputId": "de9d57a7-a06e-46e0-8f42-236a9b141a2a"
      },
      "outputs": [
        {
          "data": {
            "text/plain": [
              "0.8595008302153753"
            ]
          },
          "execution_count": 19,
          "metadata": {},
          "output_type": "execute_result"
        }
      ],
      "source": [
        "LR.score(x_test,y_test)"
      ]
    },
    {
      "cell_type": "code",
      "execution_count": 20,
      "id": "3b11d530",
      "metadata": {
        "id": "3b11d530",
        "outputId": "d28dc8e3-0929-4586-b53e-61ed3b787fca"
      },
      "outputs": [
        {
          "data": {
            "image/png": "[encoded data removed]",
            "text/plain": [
              "<Figure size 640x480 with 1 Axes>"
            ]
          },
          "metadata": {},
          "output_type": "display_data"
        }
      ],
      "source": [
        "sns.scatterplot(x=df[\"Sorting Time\"],y=df[\"Delivery Time\"])\n",
        "plt.plot(x_test,LR.predict(x_test))\n",
        "plt.show()"
      ]
    },
    {
      "cell_type": "code",
      "execution_count": 21,
      "id": "751fb9ab",
      "metadata": {
        "id": "751fb9ab",
        "outputId": "0ced7bbe-7e6e-42d4-cbdf-8dfeab375417"
      },
      "outputs": [
        {
          "data": {
            "text/plain": [
              "array([[1.67607075]])"
            ]
          },
          "execution_count": 21,
          "metadata": {},
          "output_type": "execute_result"
        }
      ],
      "source": [
        "LR.coef_"
      ]
    },
    {
      "cell_type": "code",
      "execution_count": 22,
      "id": "1f7ccb33",
      "metadata": {
        "id": "1f7ccb33",
        "outputId": "8ac7f444-0f60-453d-888d-a20deb1cef9b"
      },
      "outputs": [
        {
          "data": {
            "text/plain": [
              "array([6.69457991])"
            ]
          },
          "execution_count": 22,
          "metadata": {},
          "output_type": "execute_result"
        }
      ],
      "source": [
        "LR.intercept_"
      ]
    },
    {
      "cell_type": "code",
      "execution_count": 23,
      "id": "3a67b8c1",
      "metadata": {
        "id": "3a67b8c1",
        "outputId": "57740786-80f0-4c26-a086-ca65d2170619"
      },
      "outputs": [
        {
          "data": {
            "text/plain": [
              "array([[23.46],\n",
              "       [20.1 ],\n",
              "       [18.43],\n",
              "       [18.43],\n",
              "       [11.72]])"
            ]
          },
          "execution_count": 23,
          "metadata": {},
          "output_type": "execute_result"
        }
      ],
      "source": [
        "y_predicted = LR.predict(x_test)\n",
        "y_predicted = np.round(y_predicted,2)\n",
        "y_predicted"
      ]
    },
    {
      "cell_type": "code",
      "execution_count": 24,
      "id": "63eef928",
      "metadata": {
        "id": "63eef928",
        "outputId": "67b5fd49-becb-4680-9da3-7b96624cfdd0"
      },
      "outputs": [
        {
          "data": {
            "text/plain": [
              "array([10,  8,  7,  7,  3], dtype=int64)"
            ]
          },
          "execution_count": 24,
          "metadata": {},
          "output_type": "execute_result"
        }
      ],
      "source": [
        "x_test[0:,0]"
      ]
    },
    {
      "cell_type": "code",
      "execution_count": 25,
      "id": "377dceb8",
      "metadata": {
        "id": "377dceb8",
        "outputId": "ec9bcd78-b702-4169-8f32-df0e602280a1"
      },
      "outputs": [
        {
          "data": {
            "text/plain": [
              "array([21.  , 19.83, 18.11, 17.83,  9.5 ])"
            ]
          },
          "execution_count": 25,
          "metadata": {},
          "output_type": "execute_result"
        }
      ],
      "source": [
        "y_test[0:,0]"
      ]
    },
    {
      "cell_type": "code",
      "execution_count": 26,
      "id": "7614f22c",
      "metadata": {
        "id": "7614f22c"
      },
      "outputs": [],
      "source": [
        "import statsmodels.formula.api as smf"
      ]
    },
    {
      "cell_type": "code",
      "execution_count": 27,
      "id": "af2e3954",
      "metadata": {
        "id": "af2e3954"
      },
      "outputs": [],
      "source": [
        "linear_model = smf.ols(\"y~x\",data=df).fit()"
      ]
    },
    {
      "cell_type": "code",
      "execution_count": 28,
      "id": "830cc23d",
      "metadata": {
        "id": "830cc23d",
        "outputId": "af066820-1b02-48f9-8d4c-1006ec3d2c0d"
      },
      "outputs": [
        {
          "data": {
            "text/html": [
              "<table class=\"simpletable\">\n",
              "<caption>OLS Regression Results</caption>\n",
              "<tr>\n",
              "  <th>Dep. Variable:</th>            <td>y</td>        <th>  R-squared:         </th> <td>   0.682</td>\n",
              "</tr>\n",
              "<tr>\n",
              "  <th>Model:</th>                   <td>OLS</td>       <th>  Adj. R-squared:    </th> <td>   0.666</td>\n",
              "</tr>\n",
              "<tr>\n",
              "  <th>Method:</th>             <td>Least Squares</td>  <th>  F-statistic:       </th> <td>   40.80</td>\n",
              "</tr>\n",
              "<tr>\n",
              "  <th>Date:</th>             <td>Tue, 06 Feb 2024</td> <th>  Prob (F-statistic):</th> <td>3.98e-06</td>\n",
              "</tr>\n",
              "<tr>\n",
              "  <th>Time:</th>                 <td>11:27:09</td>     <th>  Log-Likelihood:    </th> <td> -51.357</td>\n",
              "</tr>\n",
              "<tr>\n",
              "  <th>No. Observations:</th>      <td>    21</td>      <th>  AIC:               </th> <td>   106.7</td>\n",
              "</tr>\n",
              "<tr>\n",
              "  <th>Df Residuals:</th>          <td>    19</td>      <th>  BIC:               </th> <td>   108.8</td>\n",
              "</tr>\n",
              "<tr>\n",
              "  <th>Df Model:</th>              <td>     1</td>      <th>                     </th>     <td> </td>   \n",
              "</tr>\n",
              "<tr>\n",
              "  <th>Covariance Type:</th>      <td>nonrobust</td>    <th>                     </th>     <td> </td>   \n",
              "</tr>\n",
              "</table>\n",
              "<table class=\"simpletable\">\n",
              "<tr>\n",
              "      <td></td>         <th>coef</th>     <th>std err</th>      <th>t</th>      <th>P>|t|</th>  <th>[0.025</th>    <th>0.975]</th>  \n",
              "</tr>\n",
              "<tr>\n",
              "  <th>Intercept</th> <td>    6.5827</td> <td>    1.722</td> <td>    3.823</td> <td> 0.001</td> <td>    2.979</td> <td>   10.186</td>\n",
              "</tr>\n",
              "<tr>\n",
              "  <th>x</th>         <td>    1.6490</td> <td>    0.258</td> <td>    6.387</td> <td> 0.000</td> <td>    1.109</td> <td>    2.189</td>\n",
              "</tr>\n",
              "</table>\n",
              "<table class=\"simpletable\">\n",
              "<tr>\n",
              "  <th>Omnibus:</th>       <td> 3.649</td> <th>  Durbin-Watson:     </th> <td>   1.248</td>\n",
              "</tr>\n",
              "<tr>\n",
              "  <th>Prob(Omnibus):</th> <td> 0.161</td> <th>  Jarque-Bera (JB):  </th> <td>   2.086</td>\n",
              "</tr>\n",
              "<tr>\n",
              "  <th>Skew:</th>          <td> 0.750</td> <th>  Prob(JB):          </th> <td>   0.352</td>\n",
              "</tr>\n",
              "<tr>\n",
              "  <th>Kurtosis:</th>      <td> 3.367</td> <th>  Cond. No.          </th> <td>    18.3</td>\n",
              "</tr>\n",
              "</table><br/><br/>Notes:<br/>[1] Standard Errors assume that the covariance matrix of the errors is correctly specified."
            ],
            "text/latex": [
              "\\begin{center}\n",
              "\\begin{tabular}{lclc}\n",
              "\\toprule\n",
              "\\textbf{Dep. Variable:}    &        y         & \\textbf{  R-squared:         } &     0.682   \\\\\n",
              "\\textbf{Model:}            &       OLS        & \\textbf{  Adj. R-squared:    } &     0.666   \\\\\n",
              "\\textbf{Method:}           &  Least Squares   & \\textbf{  F-statistic:       } &     40.80   \\\\\n",
              "\\textbf{Date:}             & Tue, 06 Feb 2024 & \\textbf{  Prob (F-statistic):} &  3.98e-06   \\\\\n",
              "\\textbf{Time:}             &     11:27:09     & \\textbf{  Log-Likelihood:    } &   -51.357   \\\\\n",
              "\\textbf{No. Observations:} &          21      & \\textbf{  AIC:               } &     106.7   \\\\\n",
              "\\textbf{Df Residuals:}     &          19      & \\textbf{  BIC:               } &     108.8   \\\\\n",
              "\\textbf{Df Model:}         &           1      & \\textbf{                     } &             \\\\\n",
              "\\textbf{Covariance Type:}  &    nonrobust     & \\textbf{                     } &             \\\\\n",
              "\\bottomrule\n",
              "\\end{tabular}\n",
              "\\begin{tabular}{lcccccc}\n",
              "                   & \\textbf{coef} & \\textbf{std err} & \\textbf{t} & \\textbf{P$> |$t$|$} & \\textbf{[0.025} & \\textbf{0.975]}  \\\\\n",
              "\\midrule\n",
              "\\textbf{Intercept} &       6.5827  &        1.722     &     3.823  &         0.001        &        2.979    &       10.186     \\\\\n",
              "\\textbf{x}         &       1.6490  &        0.258     &     6.387  &         0.000        &        1.109    &        2.189     \\\\\n",
              "\\bottomrule\n",
              "\\end{tabular}\n",
              "\\begin{tabular}{lclc}\n",
              "\\textbf{Omnibus:}       &  3.649 & \\textbf{  Durbin-Watson:     } &    1.248  \\\\\n",
              "\\textbf{Prob(Omnibus):} &  0.161 & \\textbf{  Jarque-Bera (JB):  } &    2.086  \\\\\n",
              "\\textbf{Skew:}          &  0.750 & \\textbf{  Prob(JB):          } &    0.352  \\\\\n",
              "\\textbf{Kurtosis:}      &  3.367 & \\textbf{  Cond. No.          } &     18.3  \\\\\n",
              "\\bottomrule\n",
              "\\end{tabular}\n",
              "%\\caption{OLS Regression Results}\n",
              "\\end{center}\n",
              "\n",
              "Notes: \\newline\n",
              " [1] Standard Errors assume that the covariance matrix of the errors is correctly specified."
            ],
            "text/plain": [
              "<class 'statsmodels.iolib.summary.Summary'>\n",
              "\"\"\"\n",
              "                            OLS Regression Results                            \n",
              "==============================================================================\n",
              "Dep. Variable:                      y   R-squared:                       0.682\n",
              "Model:                            OLS   Adj. R-squared:                  0.666\n",
              "Method:                 Least Squares   F-statistic:                     40.80\n",
              "Date:                Tue, 06 Feb 2024   Prob (F-statistic):           3.98e-06\n",
              "Time:                        11:27:09   Log-Likelihood:                -51.357\n",
              "No. Observations:                  21   AIC:                             106.7\n",
              "Df Residuals:                      19   BIC:                             108.8\n",
              "Df Model:                           1                                         \n",
              "Covariance Type:            nonrobust                                         \n",
              "==============================================================================\n",
              "                 coef    std err          t      P>|t|      [0.025      0.975]\n",
              "------------------------------------------------------------------------------\n",
              "Intercept      6.5827      1.722      3.823      0.001       2.979      10.186\n",
              "x              1.6490      0.258      6.387      0.000       1.109       2.189\n",
              "==============================================================================\n",
              "Omnibus:                        3.649   Durbin-Watson:                   1.248\n",
              "Prob(Omnibus):                  0.161   Jarque-Bera (JB):                2.086\n",
              "Skew:                           0.750   Prob(JB):                        0.352\n",
              "Kurtosis:                       3.367   Cond. No.                         18.3\n",
              "==============================================================================\n",
              "\n",
              "Notes:\n",
              "[1] Standard Errors assume that the covariance matrix of the errors is correctly specified.\n",
              "\"\"\""
            ]
          },
          "execution_count": 28,
          "metadata": {},
          "output_type": "execute_result"
        }
      ],
      "source": [
        "linear_model.summary()"
      ]
    },
    {
      "cell_type": "code",
      "execution_count": 33,
      "id": "4b4ab405",
      "metadata": {},
      "outputs": [],
      "source": [
        "from sklearn.model_selection import train_test_split\n",
        "from sklearn.linear_model import LinearRegression\n",
        "from sklearn.metrics import mean_squared_error\n",
        "import numpy as np\n",
        "\n",
        "# Assuming x and y are your features and target variable\n",
        "x_train, x_test, y_train, y_test = train_test_split(x, y, test_size=0.2, random_state=42)\n",
        "\n",
        "# Create copies of the datasets for transformations\n",
        "x_train_copy, x_test_copy, y_train_copy, y_test_copy = x_train.copy(), x_test.copy(), y_train.copy(), y_test.copy()\n",
        "\n",
        "# Apply log transformation\n",
        "x_train_copy_log = np.log(x_train_copy)\n",
        "y_train_copy_log = np.log(y_train_copy)\n",
        "x_test_copy_log = np.log(x_test_copy)\n",
        "y_test_copy_log = np.log(y_test_copy)\n",
        "\n",
        "# Apply square transformation\n",
        "y_train_copy_square = y_train_copy**2\n",
        "y_test_copy_square = y_test_copy**2\n",
        "x_train_copy_square = x_train_copy**2\n",
        "x_test_copy_square = x_test_copy**2\n",
        "# Apply exponential transformation after scaling\n",
        "\n",
        "# Scale features and target for exponential transformation\n",
        "x_train_scaled = x_train_copy / np.max(np.abs(x_train_copy))\n",
        "y_train_scaled = y_train_copy / np.max(np.abs(y_train_copy))\n",
        "x_test_scaled = x_test_copy / np.max(np.abs(x_test_copy))\n",
        "y_test_scaled = y_test_copy / np.max(np.abs(y_test_copy))\n",
        "\n",
        "# Apply exponential transformation\n",
        "x_train_copy_exp = np.exp(x_train_scaled)\n",
        "y_train_copy_exp = np.exp(y_train_scaled)\n",
        "x_test_copy_exp = np.exp(x_test_scaled)\n",
        "y_test_copy_exp = np.exp(y_test_scaled)\n",
        "\n",
        "\n",
        "# Fit linear regression models to each transformed dataset\n",
        "model_original=LinearRegression().fit(x_train, y_train)\n",
        "model_log = LinearRegression().fit(x_train_copy_log, y_train_copy_log)\n",
        "model_square = LinearRegression().fit(x_train_copy_square, y_train_copy_square)\n",
        "model_exp = LinearRegression().fit(x_train_copy_exp, y_train_copy_exp)\n",
        "\n",
        "# Predict on the test set for each model\n",
        "y_predict = model_original.predict(x_test)\n",
        "y_predict_log = model_log.predict(x_test_copy_log)\n",
        "y_predict_square = model_square.predict(x_test_copy_square)\n",
        "y_predict_exp = model_exp.predict(y_test_copy_exp)\n",
        "\n",
        "# Calculate RMSE for each transformed dataset\n",
        "rmse = np.sqrt(mean_squared_error(y_test, y_predict))\n",
        "score['original score']=rmse\n",
        "rmse_log = np.sqrt(mean_squared_error(y_test_copy, y_predict_log))\n",
        "score['log tranform']=rmse_log\n",
        "rmse_square = np.sqrt(mean_squared_error(y_test_copy, y_predict_square))\n",
        "score['square tranform']=rmse_square\n",
        "rmse_exp = np.sqrt(mean_squared_error(y_test_copy, y_predict_exp))\n",
        "score['exp tranform']=rmse_exp\n",
        "\n",
        "score = {'original transform': rmse,'log transform': rmse_log, 'square transform': rmse_square, 'exp transform': rmse_exp}\n"
      ]
    },
    {
      "cell_type": "code",
      "execution_count": 34,
      "id": "49b94b6e",
      "metadata": {},
      "outputs": [
        {
          "name": "stdout",
          "output_type": "stream",
          "text": [
            "{'original transform': 3.7478979383962754, 'log transform': 14.39940097005623, 'square transform': 442.45582258537036, 'exp transform': 15.1742847797983}\n"
          ]
        }
      ],
      "source": [
        "print(score)"
      ]
    }
  ],
  "metadata": {
    "colab": {
      "provenance": []
    },
    "kernelspec": {
      "display_name": "Python 3 (ipykernel)",
      "language": "python",
      "name": "python3"
    },
    "language_info": {
      "codemirror_mode": {
        "name": "ipython",
        "version": 3
      },
      "file_extension": ".py",
      "mimetype": "text/x-python",
      "name": "python",
      "nbconvert_exporter": "python",
      "pygments_lexer": "ipython3",
      "version": "3.8.8"
    }
  },
  "nbformat": 4,
  "nbformat_minor": 5
}
