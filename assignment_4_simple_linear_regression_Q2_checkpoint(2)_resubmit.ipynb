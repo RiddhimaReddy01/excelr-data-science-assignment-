{
  "cells": [
    {
      "cell_type": "code",
      "execution_count": 2,
      "id": "ad19ae73",
      "metadata": {
        "id": "ad19ae73"
      },
      "outputs": [],
      "source": [
        "import pandas as pd\n",
        "import numpy as np\n",
        "import matplotlib.pyplot as plt\n",
        "import statsmodels.formula.api as smf\n",
        "import seaborn as sns"
      ]
    },
    {
      "cell_type": "code",
      "execution_count": 3,
      "id": "d61d9201",
      "metadata": {
        "id": "d61d9201"
      },
      "outputs": [],
      "source": [
        "df = pd.read_csv(r\"C:\\Users\\Riddhima\\Downloads\\Salary_Data.csv\")"
      ]
    },
    {
      "cell_type": "code",
      "execution_count": 4,
      "id": "674fd6e3",
      "metadata": {
        "id": "674fd6e3",
        "outputId": "3ba3c141-fc4a-47c2-9446-1a06d7600a32"
      },
      "outputs": [
        {
          "data": {
            "text/html": [
              "<div>\n",
              "<style scoped>\n",
              "    .dataframe tbody tr th:only-of-type {\n",
              "        vertical-align: middle;\n",
              "    }\n",
              "\n",
              "    .dataframe tbody tr th {\n",
              "        vertical-align: top;\n",
              "    }\n",
              "\n",
              "    .dataframe thead th {\n",
              "        text-align: right;\n",
              "    }\n",
              "</style>\n",
              "<table border=\"1\" class=\"dataframe\">\n",
              "  <thead>\n",
              "    <tr style=\"text-align: right;\">\n",
              "      <th></th>\n",
              "      <th>YearsExperience</th>\n",
              "      <th>Salary</th>\n",
              "    </tr>\n",
              "  </thead>\n",
              "  <tbody>\n",
              "    <tr>\n",
              "      <th>0</th>\n",
              "      <td>1.1</td>\n",
              "      <td>39343.0</td>\n",
              "    </tr>\n",
              "    <tr>\n",
              "      <th>1</th>\n",
              "      <td>1.3</td>\n",
              "      <td>46205.0</td>\n",
              "    </tr>\n",
              "    <tr>\n",
              "      <th>2</th>\n",
              "      <td>1.5</td>\n",
              "      <td>37731.0</td>\n",
              "    </tr>\n",
              "    <tr>\n",
              "      <th>3</th>\n",
              "      <td>2.0</td>\n",
              "      <td>43525.0</td>\n",
              "    </tr>\n",
              "    <tr>\n",
              "      <th>4</th>\n",
              "      <td>2.2</td>\n",
              "      <td>39891.0</td>\n",
              "    </tr>\n",
              "  </tbody>\n",
              "</table>\n",
              "</div>"
            ],
            "text/plain": [
              "   YearsExperience   Salary\n",
              "0              1.1  39343.0\n",
              "1              1.3  46205.0\n",
              "2              1.5  37731.0\n",
              "3              2.0  43525.0\n",
              "4              2.2  39891.0"
            ]
          },
          "execution_count": 4,
          "metadata": {},
          "output_type": "execute_result"
        }
      ],
      "source": [
        "df.head()"
      ]
    },
    {
      "cell_type": "code",
      "execution_count": 5,
      "id": "bc191d6a",
      "metadata": {
        "id": "bc191d6a",
        "outputId": "78844ebf-fa02-44b3-b2ad-2dc0bac32b29"
      },
      "outputs": [
        {
          "name": "stdout",
          "output_type": "stream",
          "text": [
            "<class 'pandas.core.frame.DataFrame'>\n",
            "RangeIndex: 30 entries, 0 to 29\n",
            "Data columns (total 2 columns):\n",
            " #   Column           Non-Null Count  Dtype  \n",
            "---  ------           --------------  -----  \n",
            " 0   YearsExperience  30 non-null     float64\n",
            " 1   Salary           30 non-null     float64\n",
            "dtypes: float64(2)\n",
            "memory usage: 608.0 bytes\n"
          ]
        }
      ],
      "source": [
        "df.info()"
      ]
    },
    {
      "cell_type": "code",
      "execution_count": 6,
      "id": "97599b51",
      "metadata": {
        "id": "97599b51",
        "outputId": "3792fe54-c75d-4373-bdf6-08ebd21422f7"
      },
      "outputs": [
        {
          "name": "stderr",
          "output_type": "stream",
          "text": [
            "C:\\Users\\Riddhima\\AppData\\Local\\Temp\\ipykernel_1332\\738670369.py:1: UserWarning: \n",
            "\n",
            "`distplot` is a deprecated function and will be removed in seaborn v0.14.0.\n",
            "\n",
            "Please adapt your code to use either `displot` (a figure-level function with\n",
            "similar flexibility) or `histplot` (an axes-level function for histograms).\n",
            "\n",
            "For a guide to updating your code to use the new functions, please see\n",
            "https://gist.github.com/mwaskom/de44147ed2974457ad6372750bbe5751\n",
            "\n",
            "  sns.distplot(df[\"Salary\"])\n"
          ]
        },
        {
          "data": {
            "text/plain": [
              "<Axes: xlabel='Salary', ylabel='Density'>"
            ]
          },
          "execution_count": 6,
          "metadata": {},
          "output_type": "execute_result"
        },
        {
          "data": {
            "image/png": "[encoded data removed]",
            "text/plain": [
              "<Figure size 640x480 with 1 Axes>"
            ]
          },
          "metadata": {},
          "output_type": "display_data"
        }
      ],
      "source": [
        "sns.distplot(df[\"Salary\"])"
      ]
    },
    {
      "cell_type": "code",
      "execution_count": 7,
      "id": "7f4d6b8e",
      "metadata": {
        "id": "7f4d6b8e",
        "outputId": "0e7c6f64-c2b2-41b6-a95f-b355eca7d4db"
      },
      "outputs": [
        {
          "name": "stderr",
          "output_type": "stream",
          "text": [
            "C:\\Users\\Riddhima\\AppData\\Local\\Temp\\ipykernel_1332\\1382351491.py:1: UserWarning: \n",
            "\n",
            "`distplot` is a deprecated function and will be removed in seaborn v0.14.0.\n",
            "\n",
            "Please adapt your code to use either `displot` (a figure-level function with\n",
            "similar flexibility) or `histplot` (an axes-level function for histograms).\n",
            "\n",
            "For a guide to updating your code to use the new functions, please see\n",
            "https://gist.github.com/mwaskom/de44147ed2974457ad6372750bbe5751\n",
            "\n",
            "  sns.distplot(df[\"YearsExperience\"])\n"
          ]
        },
        {
          "data": {
            "text/plain": [
              "<Axes: xlabel='YearsExperience', ylabel='Density'>"
            ]
          },
          "execution_count": 7,
          "metadata": {},
          "output_type": "execute_result"
        },
        {
          "data": {
            "image/png": "[encoded data removed]",
            "text/plain": [
              "<Figure size 640x480 with 1 Axes>"
            ]
          },
          "metadata": {},
          "output_type": "display_data"
        }
      ],
      "source": [
        "sns.distplot(df[\"YearsExperience\"])"
      ]
    },
    {
      "cell_type": "code",
      "execution_count": 8,
      "id": "bddd4d39",
      "metadata": {
        "id": "bddd4d39",
        "outputId": "1dc28e79-602e-46d0-9536-af851ec31daa"
      },
      "outputs": [
        {
          "data": {
            "text/html": [
              "<div>\n",
              "<style scoped>\n",
              "    .dataframe tbody tr th:only-of-type {\n",
              "        vertical-align: middle;\n",
              "    }\n",
              "\n",
              "    .dataframe tbody tr th {\n",
              "        vertical-align: top;\n",
              "    }\n",
              "\n",
              "    .dataframe thead th {\n",
              "        text-align: right;\n",
              "    }\n",
              "</style>\n",
              "<table border=\"1\" class=\"dataframe\">\n",
              "  <thead>\n",
              "    <tr style=\"text-align: right;\">\n",
              "      <th></th>\n",
              "      <th>YearsExperience</th>\n",
              "      <th>Salary</th>\n",
              "    </tr>\n",
              "  </thead>\n",
              "  <tbody>\n",
              "    <tr>\n",
              "      <th>YearsExperience</th>\n",
              "      <td>1.000000</td>\n",
              "      <td>0.978242</td>\n",
              "    </tr>\n",
              "    <tr>\n",
              "      <th>Salary</th>\n",
              "      <td>0.978242</td>\n",
              "      <td>1.000000</td>\n",
              "    </tr>\n",
              "  </tbody>\n",
              "</table>\n",
              "</div>"
            ],
            "text/plain": [
              "                 YearsExperience    Salary\n",
              "YearsExperience         1.000000  0.978242\n",
              "Salary                  0.978242  1.000000"
            ]
          },
          "execution_count": 8,
          "metadata": {},
          "output_type": "execute_result"
        }
      ],
      "source": [
        "df.corr()"
      ]
    },
    {
      "cell_type": "code",
      "execution_count": 9,
      "id": "3fc00556",
      "metadata": {
        "id": "3fc00556",
        "outputId": "db696b9a-d4ad-4120-fa9a-48f23f9538c0"
      },
      "outputs": [
        {
          "data": {
            "text/html": [
              "<div>\n",
              "<style scoped>\n",
              "    .dataframe tbody tr th:only-of-type {\n",
              "        vertical-align: middle;\n",
              "    }\n",
              "\n",
              "    .dataframe tbody tr th {\n",
              "        vertical-align: top;\n",
              "    }\n",
              "\n",
              "    .dataframe thead th {\n",
              "        text-align: right;\n",
              "    }\n",
              "</style>\n",
              "<table border=\"1\" class=\"dataframe\">\n",
              "  <thead>\n",
              "    <tr style=\"text-align: right;\">\n",
              "      <th></th>\n",
              "      <th>years_exp</th>\n",
              "      <th>salary_hike</th>\n",
              "    </tr>\n",
              "  </thead>\n",
              "  <tbody>\n",
              "    <tr>\n",
              "      <th>0</th>\n",
              "      <td>1.1</td>\n",
              "      <td>39343.0</td>\n",
              "    </tr>\n",
              "    <tr>\n",
              "      <th>1</th>\n",
              "      <td>1.3</td>\n",
              "      <td>46205.0</td>\n",
              "    </tr>\n",
              "    <tr>\n",
              "      <th>2</th>\n",
              "      <td>1.5</td>\n",
              "      <td>37731.0</td>\n",
              "    </tr>\n",
              "    <tr>\n",
              "      <th>3</th>\n",
              "      <td>2.0</td>\n",
              "      <td>43525.0</td>\n",
              "    </tr>\n",
              "    <tr>\n",
              "      <th>4</th>\n",
              "      <td>2.2</td>\n",
              "      <td>39891.0</td>\n",
              "    </tr>\n",
              "    <tr>\n",
              "      <th>5</th>\n",
              "      <td>2.9</td>\n",
              "      <td>56642.0</td>\n",
              "    </tr>\n",
              "    <tr>\n",
              "      <th>6</th>\n",
              "      <td>3.0</td>\n",
              "      <td>60150.0</td>\n",
              "    </tr>\n",
              "    <tr>\n",
              "      <th>7</th>\n",
              "      <td>3.2</td>\n",
              "      <td>54445.0</td>\n",
              "    </tr>\n",
              "    <tr>\n",
              "      <th>8</th>\n",
              "      <td>3.2</td>\n",
              "      <td>64445.0</td>\n",
              "    </tr>\n",
              "    <tr>\n",
              "      <th>9</th>\n",
              "      <td>3.7</td>\n",
              "      <td>57189.0</td>\n",
              "    </tr>\n",
              "    <tr>\n",
              "      <th>10</th>\n",
              "      <td>3.9</td>\n",
              "      <td>63218.0</td>\n",
              "    </tr>\n",
              "    <tr>\n",
              "      <th>11</th>\n",
              "      <td>4.0</td>\n",
              "      <td>55794.0</td>\n",
              "    </tr>\n",
              "    <tr>\n",
              "      <th>12</th>\n",
              "      <td>4.0</td>\n",
              "      <td>56957.0</td>\n",
              "    </tr>\n",
              "    <tr>\n",
              "      <th>13</th>\n",
              "      <td>4.1</td>\n",
              "      <td>57081.0</td>\n",
              "    </tr>\n",
              "    <tr>\n",
              "      <th>14</th>\n",
              "      <td>4.5</td>\n",
              "      <td>61111.0</td>\n",
              "    </tr>\n",
              "    <tr>\n",
              "      <th>15</th>\n",
              "      <td>4.9</td>\n",
              "      <td>67938.0</td>\n",
              "    </tr>\n",
              "    <tr>\n",
              "      <th>16</th>\n",
              "      <td>5.1</td>\n",
              "      <td>66029.0</td>\n",
              "    </tr>\n",
              "    <tr>\n",
              "      <th>17</th>\n",
              "      <td>5.3</td>\n",
              "      <td>83088.0</td>\n",
              "    </tr>\n",
              "    <tr>\n",
              "      <th>18</th>\n",
              "      <td>5.9</td>\n",
              "      <td>81363.0</td>\n",
              "    </tr>\n",
              "    <tr>\n",
              "      <th>19</th>\n",
              "      <td>6.0</td>\n",
              "      <td>93940.0</td>\n",
              "    </tr>\n",
              "    <tr>\n",
              "      <th>20</th>\n",
              "      <td>6.8</td>\n",
              "      <td>91738.0</td>\n",
              "    </tr>\n",
              "    <tr>\n",
              "      <th>21</th>\n",
              "      <td>7.1</td>\n",
              "      <td>98273.0</td>\n",
              "    </tr>\n",
              "    <tr>\n",
              "      <th>22</th>\n",
              "      <td>7.9</td>\n",
              "      <td>101302.0</td>\n",
              "    </tr>\n",
              "    <tr>\n",
              "      <th>23</th>\n",
              "      <td>8.2</td>\n",
              "      <td>113812.0</td>\n",
              "    </tr>\n",
              "    <tr>\n",
              "      <th>24</th>\n",
              "      <td>8.7</td>\n",
              "      <td>109431.0</td>\n",
              "    </tr>\n",
              "    <tr>\n",
              "      <th>25</th>\n",
              "      <td>9.0</td>\n",
              "      <td>105582.0</td>\n",
              "    </tr>\n",
              "    <tr>\n",
              "      <th>26</th>\n",
              "      <td>9.5</td>\n",
              "      <td>116969.0</td>\n",
              "    </tr>\n",
              "    <tr>\n",
              "      <th>27</th>\n",
              "      <td>9.6</td>\n",
              "      <td>112635.0</td>\n",
              "    </tr>\n",
              "    <tr>\n",
              "      <th>28</th>\n",
              "      <td>10.3</td>\n",
              "      <td>122391.0</td>\n",
              "    </tr>\n",
              "    <tr>\n",
              "      <th>29</th>\n",
              "      <td>10.5</td>\n",
              "      <td>121872.0</td>\n",
              "    </tr>\n",
              "  </tbody>\n",
              "</table>\n",
              "</div>"
            ],
            "text/plain": [
              "    years_exp  salary_hike\n",
              "0         1.1      39343.0\n",
              "1         1.3      46205.0\n",
              "2         1.5      37731.0\n",
              "3         2.0      43525.0\n",
              "4         2.2      39891.0\n",
              "5         2.9      56642.0\n",
              "6         3.0      60150.0\n",
              "7         3.2      54445.0\n",
              "8         3.2      64445.0\n",
              "9         3.7      57189.0\n",
              "10        3.9      63218.0\n",
              "11        4.0      55794.0\n",
              "12        4.0      56957.0\n",
              "13        4.1      57081.0\n",
              "14        4.5      61111.0\n",
              "15        4.9      67938.0\n",
              "16        5.1      66029.0\n",
              "17        5.3      83088.0\n",
              "18        5.9      81363.0\n",
              "19        6.0      93940.0\n",
              "20        6.8      91738.0\n",
              "21        7.1      98273.0\n",
              "22        7.9     101302.0\n",
              "23        8.2     113812.0\n",
              "24        8.7     109431.0\n",
              "25        9.0     105582.0\n",
              "26        9.5     116969.0\n",
              "27        9.6     112635.0\n",
              "28       10.3     122391.0\n",
              "29       10.5     121872.0"
            ]
          },
          "execution_count": 9,
          "metadata": {},
          "output_type": "execute_result"
        }
      ],
      "source": [
        "df =df.rename({\"YearsExperience\":\"years_exp\",\"Salary\":\"salary_hike\"},axis=1)\n",
        "df"
      ]
    },
    {
      "cell_type": "code",
      "execution_count": 10,
      "id": "154e282f",
      "metadata": {
        "id": "154e282f",
        "outputId": "8dc80884-dce5-4e40-fc56-c94c342bafb2"
      },
      "outputs": [
        {
          "data": {
            "text/plain": [
              "<Axes: xlabel='years_exp', ylabel='salary_hike'>"
            ]
          },
          "execution_count": 10,
          "metadata": {},
          "output_type": "execute_result"
        },
        {
          "data": {
            "image/png": "[encoded data removed]",
            "text/plain": [
              "<Figure size 640x480 with 1 Axes>"
            ]
          },
          "metadata": {},
          "output_type": "display_data"
        }
      ],
      "source": [
        "sns.scatterplot(x=df.years_exp, y=df.salary_hike)"
      ]
    },
    {
      "cell_type": "code",
      "execution_count": 11,
      "id": "415d9a0c",
      "metadata": {
        "id": "415d9a0c",
        "outputId": "7526718d-2596-4dcf-9d3d-2e14a37a10b1"
      },
      "outputs": [
        {
          "name": "stdout",
          "output_type": "stream",
          "text": [
            "Dimension:  2\n",
            "Shape:  (30, 1)\n"
          ]
        }
      ],
      "source": [
        "x = np.array(df[\"years_exp\"]).reshape(-1,1)\n",
        "print(\"Dimension: \",x.ndim)\n",
        "print(\"Shape: \",x.shape)"
      ]
    },
    {
      "cell_type": "code",
      "execution_count": 12,
      "id": "ec283d4a",
      "metadata": {
        "id": "ec283d4a",
        "outputId": "4ffbf234-f1ac-48d8-a433-a5c3d6d2da28"
      },
      "outputs": [
        {
          "name": "stdout",
          "output_type": "stream",
          "text": [
            "Dimension:  2\n",
            "Shape:  (30, 1)\n"
          ]
        }
      ],
      "source": [
        "y =np.array(df[\"salary_hike\"]).reshape(-1,1)\n",
        "print(\"Dimension: \",y.ndim)\n",
        "print(\"Shape: \",y.shape)"
      ]
    },
    {
      "cell_type": "code",
      "execution_count": 13,
      "id": "896708b2",
      "metadata": {
        "id": "896708b2"
      },
      "outputs": [],
      "source": [
        "from sklearn.model_selection import train_test_split\n",
        "x_train,x_test,y_train,y_test=train_test_split(x,y,test_size=0.2)"
      ]
    },
    {
      "cell_type": "code",
      "execution_count": 14,
      "id": "882cd27c",
      "metadata": {
        "id": "882cd27c",
        "outputId": "ed4a41c3-a27b-4eb6-b63c-a73c9b644e6d"
      },
      "outputs": [
        {
          "name": "stdout",
          "output_type": "stream",
          "text": [
            "Lenth of X_train:  24\n",
            "Lenth of X_test:  6\n",
            "Lenth of Y_train:  24\n",
            "Lenth of Y_test:  6\n"
          ]
        }
      ],
      "source": [
        "print(\"Lenth of X_train: \",len(x_train))\n",
        "print(\"Lenth of X_test: \",len(x_test))\n",
        "print(\"Lenth of Y_train: \",len(y_train))\n",
        "print(\"Lenth of Y_test: \",len(y_test))"
      ]
    },
    {
      "cell_type": "code",
      "execution_count": 15,
      "id": "adcb7029",
      "metadata": {
        "id": "adcb7029",
        "outputId": "6c3f7abd-9a4c-4af9-9557-ff6db3627deb"
      },
      "outputs": [
        {
          "data": {
            "text/plain": [
              "array([[4.1],\n",
              "       [9. ],\n",
              "       [2.9],\n",
              "       [4. ],\n",
              "       [7.9],\n",
              "       [7.1]])"
            ]
          },
          "execution_count": 15,
          "metadata": {},
          "output_type": "execute_result"
        }
      ],
      "source": [
        "x_test"
      ]
    },
    {
      "cell_type": "code",
      "execution_count": 16,
      "id": "fd412c9a",
      "metadata": {
        "id": "fd412c9a",
        "outputId": "bd288a61-4f8d-4b89-ff47-d3ac922719ea"
      },
      "outputs": [
        {
          "data": {
            "text/plain": [
              "array([[ 57081.],\n",
              "       [105582.],\n",
              "       [ 56642.],\n",
              "       [ 55794.],\n",
              "       [101302.],\n",
              "       [ 98273.]])"
            ]
          },
          "execution_count": 16,
          "metadata": {},
          "output_type": "execute_result"
        }
      ],
      "source": [
        "y_test"
      ]
    },
    {
      "cell_type": "code",
      "execution_count": 17,
      "id": "b2dd6bd4",
      "metadata": {
        "id": "b2dd6bd4",
        "outputId": "55802078-b19a-419e-dcc0-9b8f8b8e124d"
      },
      "outputs": [
        {
          "data": {
            "text/html": [
              "<style>#sk-container-id-1 {color: black;}#sk-container-id-1 pre{padding: 0;}#sk-container-id-1 div.sk-toggleable {background-color: white;}#sk-container-id-1 label.sk-toggleable__label {cursor: pointer;display: block;width: 100%;margin-bottom: 0;padding: 0.3em;box-sizing: border-box;text-align: center;}#sk-container-id-1 label.sk-toggleable__label-arrow:before {content: \"▸\";float: left;margin-right: 0.25em;color: #696969;}#sk-container-id-1 label.sk-toggleable__label-arrow:hover:before {color: black;}#sk-container-id-1 div.sk-estimator:hover label.sk-toggleable__label-arrow:before {color: black;}#sk-container-id-1 div.sk-toggleable__content {max-height: 0;max-width: 0;overflow: hidden;text-align: left;background-color: #f0f8ff;}#sk-container-id-1 div.sk-toggleable__content pre {margin: 0.2em;color: black;border-radius: 0.25em;background-color: #f0f8ff;}#sk-container-id-1 input.sk-toggleable__control:checked~div.sk-toggleable__content {max-height: 200px;max-width: 100%;overflow: auto;}#sk-container-id-1 input.sk-toggleable__control:checked~label.sk-toggleable__label-arrow:before {content: \"▾\";}#sk-container-id-1 div.sk-estimator input.sk-toggleable__control:checked~label.sk-toggleable__label {background-color: #d4ebff;}#sk-container-id-1 div.sk-label input.sk-toggleable__control:checked~label.sk-toggleable__label {background-color: #d4ebff;}#sk-container-id-1 input.sk-hidden--visually {border: 0;clip: rect(1px 1px 1px 1px);clip: rect(1px, 1px, 1px, 1px);height: 1px;margin: -1px;overflow: hidden;padding: 0;position: absolute;width: 1px;}#sk-container-id-1 div.sk-estimator {font-family: monospace;background-color: #f0f8ff;border: 1px dotted black;border-radius: 0.25em;box-sizing: border-box;margin-bottom: 0.5em;}#sk-container-id-1 div.sk-estimator:hover {background-color: #d4ebff;}#sk-container-id-1 div.sk-parallel-item::after {content: \"\";width: 100%;border-bottom: 1px solid gray;flex-grow: 1;}#sk-container-id-1 div.sk-label:hover label.sk-toggleable__label {background-color: #d4ebff;}#sk-container-id-1 div.sk-serial::before {content: \"\";position: absolute;border-left: 1px solid gray;box-sizing: border-box;top: 0;bottom: 0;left: 50%;z-index: 0;}#sk-container-id-1 div.sk-serial {display: flex;flex-direction: column;align-items: center;background-color: white;padding-right: 0.2em;padding-left: 0.2em;position: relative;}#sk-container-id-1 div.sk-item {position: relative;z-index: 1;}#sk-container-id-1 div.sk-parallel {display: flex;align-items: stretch;justify-content: center;background-color: white;position: relative;}#sk-container-id-1 div.sk-item::before, #sk-container-id-1 div.sk-parallel-item::before {content: \"\";position: absolute;border-left: 1px solid gray;box-sizing: border-box;top: 0;bottom: 0;left: 50%;z-index: -1;}#sk-container-id-1 div.sk-parallel-item {display: flex;flex-direction: column;z-index: 1;position: relative;background-color: white;}#sk-container-id-1 div.sk-parallel-item:first-child::after {align-self: flex-end;width: 50%;}#sk-container-id-1 div.sk-parallel-item:last-child::after {align-self: flex-start;width: 50%;}#sk-container-id-1 div.sk-parallel-item:only-child::after {width: 0;}#sk-container-id-1 div.sk-dashed-wrapped {border: 1px dashed gray;margin: 0 0.4em 0.5em 0.4em;box-sizing: border-box;padding-bottom: 0.4em;background-color: white;}#sk-container-id-1 div.sk-label label {font-family: monospace;font-weight: bold;display: inline-block;line-height: 1.2em;}#sk-container-id-1 div.sk-label-container {text-align: center;}#sk-container-id-1 div.sk-container {/* jupyter's `normalize.less` sets `[hidden] { display: none; }` but bootstrap.min.css set `[hidden] { display: none !important; }` so we also need the `!important` here to be able to override the default hidden behavior on the sphinx rendered scikit-learn.org. See: https://github.com/scikit-learn/scikit-learn/issues/21755 */display: inline-block !important;position: relative;}#sk-container-id-1 div.sk-text-repr-fallback {display: none;}</style><div id=\"sk-container-id-1\" class=\"sk-top-container\"><div class=\"sk-text-repr-fallback\"><pre>LinearRegression()</pre><b>In a Jupyter environment, please rerun this cell to show the HTML representation or trust the notebook. <br />On GitHub, the HTML representation is unable to render, please try loading this page with nbviewer.org.</b></div><div class=\"sk-container\" hidden><div class=\"sk-item\"><div class=\"sk-estimator sk-toggleable\"><input class=\"sk-toggleable__control sk-hidden--visually\" id=\"sk-estimator-id-1\" type=\"checkbox\" checked><label for=\"sk-estimator-id-1\" class=\"sk-toggleable__label sk-toggleable__label-arrow\">LinearRegression</label><div class=\"sk-toggleable__content\"><pre>LinearRegression()</pre></div></div></div></div></div>"
            ],
            "text/plain": [
              "LinearRegression()"
            ]
          },
          "execution_count": 17,
          "metadata": {},
          "output_type": "execute_result"
        }
      ],
      "source": [
        "from sklearn.linear_model import LinearRegression\n",
        "LR= LinearRegression()\n",
        "LR.fit(x_train,y_train)"
      ]
    },
    {
      "cell_type": "code",
      "execution_count": 18,
      "id": "6100bb59",
      "metadata": {
        "id": "6100bb59",
        "outputId": "d2618195-15e7-4549-fc28-fcf2699f7c6e"
      },
      "outputs": [
        {
          "data": {
            "text/plain": [
              "0.9364369405019942"
            ]
          },
          "execution_count": 18,
          "metadata": {},
          "output_type": "execute_result"
        }
      ],
      "source": [
        "LR.score(x_test,y_test)"
      ]
    },
    {
      "cell_type": "code",
      "execution_count": 19,
      "id": "ea51ef98",
      "metadata": {
        "id": "ea51ef98",
        "outputId": "7de74c8e-7579-4f26-c067-56d544feb674"
      },
      "outputs": [
        {
          "data": {
            "image/png": "[encoded data removed]",
            "text/plain": [
              "<Figure size 640x480 with 1 Axes>"
            ]
          },
          "metadata": {},
          "output_type": "display_data"
        }
      ],
      "source": [
        "sns.scatterplot(x=df.years_exp,y=df.salary_hike)\n",
        "plt.plot(x_test,LR.predict(x_test))\n",
        "plt.show()"
      ]
    },
    {
      "cell_type": "code",
      "execution_count": 20,
      "id": "eb0e4116",
      "metadata": {
        "id": "eb0e4116",
        "outputId": "74eff656-4d16-47c0-8d66-5c3510357f62"
      },
      "outputs": [
        {
          "data": {
            "text/plain": [
              "array([[9439.94318559]])"
            ]
          },
          "execution_count": 20,
          "metadata": {},
          "output_type": "execute_result"
        }
      ],
      "source": [
        "LR.coef_"
      ]
    },
    {
      "cell_type": "code",
      "execution_count": 21,
      "id": "563129e5",
      "metadata": {
        "id": "563129e5",
        "outputId": "dc05dafb-f946-4120-cefd-8bcb901cf4ef"
      },
      "outputs": [
        {
          "data": {
            "text/plain": [
              "array([26295.29448801])"
            ]
          },
          "execution_count": 21,
          "metadata": {},
          "output_type": "execute_result"
        }
      ],
      "source": [
        "LR.intercept_"
      ]
    },
    {
      "cell_type": "code",
      "execution_count": 22,
      "id": "7addf133",
      "metadata": {
        "id": "7addf133",
        "outputId": "3b8e5e1e-0cac-4836-b689-330e79f4e8f2"
      },
      "outputs": [
        {
          "data": {
            "text/plain": [
              "array([ 64999.06, 111254.78,  53671.13,  64055.07, 100870.85,  93318.89])"
            ]
          },
          "execution_count": 22,
          "metadata": {},
          "output_type": "execute_result"
        }
      ],
      "source": [
        "y_predict= np.round(LR.predict(x_test),2)\n",
        "y_predict[0:,0]"
      ]
    },
    {
      "cell_type": "code",
      "execution_count": 23,
      "id": "134e1254",
      "metadata": {
        "id": "134e1254",
        "outputId": "6133430e-900c-4e8e-cc2a-0bea5fd85b70"
      },
      "outputs": [
        {
          "data": {
            "text/plain": [
              "array([4.1, 9. , 2.9, 4. , 7.9, 7.1])"
            ]
          },
          "execution_count": 23,
          "metadata": {},
          "output_type": "execute_result"
        }
      ],
      "source": [
        "x_test[0:,0]"
      ]
    },
    {
      "cell_type": "code",
      "execution_count": 24,
      "id": "d4e55e3d",
      "metadata": {
        "id": "d4e55e3d",
        "outputId": "fcb70eca-c102-48a1-ca2a-13d3bbd45ea6"
      },
      "outputs": [
        {
          "data": {
            "text/plain": [
              "array([ 57081., 105582.,  56642.,  55794., 101302.,  98273.])"
            ]
          },
          "execution_count": 24,
          "metadata": {},
          "output_type": "execute_result"
        }
      ],
      "source": [
        "y_test[0:,0]"
      ]
    },
    {
      "cell_type": "code",
      "execution_count": 25,
      "id": "f7b6ae67",
      "metadata": {
        "id": "f7b6ae67"
      },
      "outputs": [],
      "source": [
        "df_1 = {\"Test_YearsExperince\": x_test[0:,0],\"Actual_salary\":y_test[0:,0],\"predicted_salary\":y_predict[0:,0]}\n",
        "df_1 =pd.DataFrame(df_1)\n"
      ]
    },
    {
      "cell_type": "code",
      "execution_count": 26,
      "id": "62e88195",
      "metadata": {
        "id": "62e88195",
        "outputId": "60b1906e-344d-45a9-d9e0-3f2add3e88d8"
      },
      "outputs": [
        {
          "data": {
            "text/html": [
              "<div>\n",
              "<style scoped>\n",
              "    .dataframe tbody tr th:only-of-type {\n",
              "        vertical-align: middle;\n",
              "    }\n",
              "\n",
              "    .dataframe tbody tr th {\n",
              "        vertical-align: top;\n",
              "    }\n",
              "\n",
              "    .dataframe thead th {\n",
              "        text-align: right;\n",
              "    }\n",
              "</style>\n",
              "<table border=\"1\" class=\"dataframe\">\n",
              "  <thead>\n",
              "    <tr style=\"text-align: right;\">\n",
              "      <th></th>\n",
              "      <th>Test_YearsExperince</th>\n",
              "      <th>Actual_salary</th>\n",
              "      <th>predicted_salary</th>\n",
              "    </tr>\n",
              "  </thead>\n",
              "  <tbody>\n",
              "    <tr>\n",
              "      <th>0</th>\n",
              "      <td>4.1</td>\n",
              "      <td>57081.0</td>\n",
              "      <td>64999.06</td>\n",
              "    </tr>\n",
              "    <tr>\n",
              "      <th>1</th>\n",
              "      <td>9.0</td>\n",
              "      <td>105582.0</td>\n",
              "      <td>111254.78</td>\n",
              "    </tr>\n",
              "    <tr>\n",
              "      <th>2</th>\n",
              "      <td>2.9</td>\n",
              "      <td>56642.0</td>\n",
              "      <td>53671.13</td>\n",
              "    </tr>\n",
              "    <tr>\n",
              "      <th>3</th>\n",
              "      <td>4.0</td>\n",
              "      <td>55794.0</td>\n",
              "      <td>64055.07</td>\n",
              "    </tr>\n",
              "    <tr>\n",
              "      <th>4</th>\n",
              "      <td>7.9</td>\n",
              "      <td>101302.0</td>\n",
              "      <td>100870.85</td>\n",
              "    </tr>\n",
              "  </tbody>\n",
              "</table>\n",
              "</div>"
            ],
            "text/plain": [
              "   Test_YearsExperince  Actual_salary  predicted_salary\n",
              "0                  4.1        57081.0          64999.06\n",
              "1                  9.0       105582.0         111254.78\n",
              "2                  2.9        56642.0          53671.13\n",
              "3                  4.0        55794.0          64055.07\n",
              "4                  7.9       101302.0         100870.85"
            ]
          },
          "execution_count": 26,
          "metadata": {},
          "output_type": "execute_result"
        }
      ],
      "source": [
        "df_1.head()"
      ]
    },
    {
      "cell_type": "code",
      "execution_count": 27,
      "id": "0a0f6428",
      "metadata": {
        "id": "0a0f6428"
      },
      "outputs": [
        {
          "name": "stdout",
          "output_type": "stream",
          "text": [
            "Root Mean Squared Error (RMSE): 5725.3318594995\n"
          ]
        }
      ],
      "source": [
        "from sklearn.metrics import mean_squared_error\n",
        "linear_model = smf.ols(\"y~x\",data=df).fit()\n",
        "# Calculate RMSE using scikit-learn's mean_squared_error function\n",
        "rmse = np.sqrt(mean_squared_error(y_test, y_predict))\n",
        "\n",
        "print(\"Root Mean Squared Error (RMSE):\", rmse)\n",
        "score={}\n",
        "\n",
        "score = {'original score': rmse}\n",
        "\n",
        "\n"
      ]
    },
    {
      "cell_type": "code",
      "execution_count": 28,
      "id": "c7449ab8",
      "metadata": {
        "id": "c7449ab8",
        "outputId": "c6d91ef3-737b-44eb-d0b5-39aa3cdcc6e3"
      },
      "outputs": [
        {
          "data": {
            "text/plain": [
              "Intercept    25792.200199\n",
              "x             9449.962321\n",
              "dtype: float64"
            ]
          },
          "execution_count": 28,
          "metadata": {},
          "output_type": "execute_result"
        }
      ],
      "source": [
        "linear_model.params"
      ]
    },
    {
      "cell_type": "code",
      "execution_count": 29,
      "id": "38a0be72",
      "metadata": {
        "id": "38a0be72",
        "outputId": "374d4883-fb4a-4923-ceb9-b2c23fb7dfa9"
      },
      "outputs": [
        {
          "data": {
            "text/html": [
              "<table class=\"simpletable\">\n",
              "<caption>OLS Regression Results</caption>\n",
              "<tr>\n",
              "  <th>Dep. Variable:</th>            <td>y</td>        <th>  R-squared:         </th> <td>   0.957</td>\n",
              "</tr>\n",
              "<tr>\n",
              "  <th>Model:</th>                   <td>OLS</td>       <th>  Adj. R-squared:    </th> <td>   0.955</td>\n",
              "</tr>\n",
              "<tr>\n",
              "  <th>Method:</th>             <td>Least Squares</td>  <th>  F-statistic:       </th> <td>   622.5</td>\n",
              "</tr>\n",
              "<tr>\n",
              "  <th>Date:</th>             <td>Tue, 06 Feb 2024</td> <th>  Prob (F-statistic):</th> <td>1.14e-20</td>\n",
              "</tr>\n",
              "<tr>\n",
              "  <th>Time:</th>                 <td>11:33:25</td>     <th>  Log-Likelihood:    </th> <td> -301.44</td>\n",
              "</tr>\n",
              "<tr>\n",
              "  <th>No. Observations:</th>      <td>    30</td>      <th>  AIC:               </th> <td>   606.9</td>\n",
              "</tr>\n",
              "<tr>\n",
              "  <th>Df Residuals:</th>          <td>    28</td>      <th>  BIC:               </th> <td>   609.7</td>\n",
              "</tr>\n",
              "<tr>\n",
              "  <th>Df Model:</th>              <td>     1</td>      <th>                     </th>     <td> </td>   \n",
              "</tr>\n",
              "<tr>\n",
              "  <th>Covariance Type:</th>      <td>nonrobust</td>    <th>                     </th>     <td> </td>   \n",
              "</tr>\n",
              "</table>\n",
              "<table class=\"simpletable\">\n",
              "<tr>\n",
              "      <td></td>         <th>coef</th>     <th>std err</th>      <th>t</th>      <th>P>|t|</th>  <th>[0.025</th>    <th>0.975]</th>  \n",
              "</tr>\n",
              "<tr>\n",
              "  <th>Intercept</th> <td> 2.579e+04</td> <td> 2273.053</td> <td>   11.347</td> <td> 0.000</td> <td> 2.11e+04</td> <td> 3.04e+04</td>\n",
              "</tr>\n",
              "<tr>\n",
              "  <th>x</th>         <td> 9449.9623</td> <td>  378.755</td> <td>   24.950</td> <td> 0.000</td> <td> 8674.119</td> <td> 1.02e+04</td>\n",
              "</tr>\n",
              "</table>\n",
              "<table class=\"simpletable\">\n",
              "<tr>\n",
              "  <th>Omnibus:</th>       <td> 2.140</td> <th>  Durbin-Watson:     </th> <td>   1.648</td>\n",
              "</tr>\n",
              "<tr>\n",
              "  <th>Prob(Omnibus):</th> <td> 0.343</td> <th>  Jarque-Bera (JB):  </th> <td>   1.569</td>\n",
              "</tr>\n",
              "<tr>\n",
              "  <th>Skew:</th>          <td> 0.363</td> <th>  Prob(JB):          </th> <td>   0.456</td>\n",
              "</tr>\n",
              "<tr>\n",
              "  <th>Kurtosis:</th>      <td> 2.147</td> <th>  Cond. No.          </th> <td>    13.2</td>\n",
              "</tr>\n",
              "</table><br/><br/>Notes:<br/>[1] Standard Errors assume that the covariance matrix of the errors is correctly specified."
            ],
            "text/latex": [
              "\\begin{center}\n",
              "\\begin{tabular}{lclc}\n",
              "\\toprule\n",
              "\\textbf{Dep. Variable:}    &        y         & \\textbf{  R-squared:         } &     0.957   \\\\\n",
              "\\textbf{Model:}            &       OLS        & \\textbf{  Adj. R-squared:    } &     0.955   \\\\\n",
              "\\textbf{Method:}           &  Least Squares   & \\textbf{  F-statistic:       } &     622.5   \\\\\n",
              "\\textbf{Date:}             & Tue, 06 Feb 2024 & \\textbf{  Prob (F-statistic):} &  1.14e-20   \\\\\n",
              "\\textbf{Time:}             &     11:33:25     & \\textbf{  Log-Likelihood:    } &   -301.44   \\\\\n",
              "\\textbf{No. Observations:} &          30      & \\textbf{  AIC:               } &     606.9   \\\\\n",
              "\\textbf{Df Residuals:}     &          28      & \\textbf{  BIC:               } &     609.7   \\\\\n",
              "\\textbf{Df Model:}         &           1      & \\textbf{                     } &             \\\\\n",
              "\\textbf{Covariance Type:}  &    nonrobust     & \\textbf{                     } &             \\\\\n",
              "\\bottomrule\n",
              "\\end{tabular}\n",
              "\\begin{tabular}{lcccccc}\n",
              "                   & \\textbf{coef} & \\textbf{std err} & \\textbf{t} & \\textbf{P$> |$t$|$} & \\textbf{[0.025} & \\textbf{0.975]}  \\\\\n",
              "\\midrule\n",
              "\\textbf{Intercept} &    2.579e+04  &     2273.053     &    11.347  &         0.000        &     2.11e+04    &     3.04e+04     \\\\\n",
              "\\textbf{x}         &    9449.9623  &      378.755     &    24.950  &         0.000        &     8674.119    &     1.02e+04     \\\\\n",
              "\\bottomrule\n",
              "\\end{tabular}\n",
              "\\begin{tabular}{lclc}\n",
              "\\textbf{Omnibus:}       &  2.140 & \\textbf{  Durbin-Watson:     } &    1.648  \\\\\n",
              "\\textbf{Prob(Omnibus):} &  0.343 & \\textbf{  Jarque-Bera (JB):  } &    1.569  \\\\\n",
              "\\textbf{Skew:}          &  0.363 & \\textbf{  Prob(JB):          } &    0.456  \\\\\n",
              "\\textbf{Kurtosis:}      &  2.147 & \\textbf{  Cond. No.          } &     13.2  \\\\\n",
              "\\bottomrule\n",
              "\\end{tabular}\n",
              "%\\caption{OLS Regression Results}\n",
              "\\end{center}\n",
              "\n",
              "Notes: \\newline\n",
              " [1] Standard Errors assume that the covariance matrix of the errors is correctly specified."
            ],
            "text/plain": [
              "<class 'statsmodels.iolib.summary.Summary'>\n",
              "\"\"\"\n",
              "                            OLS Regression Results                            \n",
              "==============================================================================\n",
              "Dep. Variable:                      y   R-squared:                       0.957\n",
              "Model:                            OLS   Adj. R-squared:                  0.955\n",
              "Method:                 Least Squares   F-statistic:                     622.5\n",
              "Date:                Tue, 06 Feb 2024   Prob (F-statistic):           1.14e-20\n",
              "Time:                        11:33:25   Log-Likelihood:                -301.44\n",
              "No. Observations:                  30   AIC:                             606.9\n",
              "Df Residuals:                      28   BIC:                             609.7\n",
              "Df Model:                           1                                         \n",
              "Covariance Type:            nonrobust                                         \n",
              "==============================================================================\n",
              "                 coef    std err          t      P>|t|      [0.025      0.975]\n",
              "------------------------------------------------------------------------------\n",
              "Intercept   2.579e+04   2273.053     11.347      0.000    2.11e+04    3.04e+04\n",
              "x           9449.9623    378.755     24.950      0.000    8674.119    1.02e+04\n",
              "==============================================================================\n",
              "Omnibus:                        2.140   Durbin-Watson:                   1.648\n",
              "Prob(Omnibus):                  0.343   Jarque-Bera (JB):                1.569\n",
              "Skew:                           0.363   Prob(JB):                        0.456\n",
              "Kurtosis:                       2.147   Cond. No.                         13.2\n",
              "==============================================================================\n",
              "\n",
              "Notes:\n",
              "[1] Standard Errors assume that the covariance matrix of the errors is correctly specified.\n",
              "\"\"\""
            ]
          },
          "execution_count": 29,
          "metadata": {},
          "output_type": "execute_result"
        }
      ],
      "source": [
        "linear_model.summary()"
      ]
    },
    {
      "cell_type": "code",
      "execution_count": 30,
      "id": "89565bdc",
      "metadata": {
        "id": "89565bdc"
      },
      "outputs": [],
      "source": [
        "from sklearn.model_selection import train_test_split\n",
        "from sklearn.linear_model import LinearRegression\n",
        "from sklearn.metrics import mean_squared_error\n",
        "import numpy as np\n",
        "\n",
        "# Assuming x and y are your features and target variable\n",
        "x_train, x_test, y_train, y_test = train_test_split(x, y, test_size=0.2, random_state=42)\n",
        "\n",
        "# Create copies of the datasets for transformations\n",
        "x_train_copy, x_test_copy, y_train_copy, y_test_copy = x_train.copy(), x_test.copy(), y_train.copy(), y_test.copy()\n",
        "\n",
        "# Apply log transformation\n",
        "x_train_copy_log = np.log(x_train_copy)\n",
        "y_train_copy_log = np.log(y_train_copy)\n",
        "x_test_copy_log = np.log(x_test_copy)\n",
        "y_test_copy_log = np.log(y_test_copy)\n",
        "\n",
        "# Apply square transformation\n",
        "y_train_copy_square = y_train_copy**2\n",
        "y_test_copy_square = y_test_copy**2\n",
        "x_train_copy_square = x_train_copy**2\n",
        "x_test_copy_square = x_test_copy**2\n",
        "\n",
        "\n",
        "# Apply exponential transformation after scaling\n",
        "\n",
        "# Scale features and target for exponential transformation\n",
        "x_train_scaled = x_train_copy / np.max(np.abs(x_train_copy))\n",
        "y_train_scaled = y_train_copy / np.max(np.abs(y_train_copy))\n",
        "x_test_scaled = x_test_copy / np.max(np.abs(x_test_copy))\n",
        "y_test_scaled = y_test_copy / np.max(np.abs(y_test_copy))\n",
        "\n",
        "# Apply exponential transformation\n",
        "x_train_copy_exp = np.exp(x_train_scaled)\n",
        "y_train_copy_exp = np.exp(y_train_scaled)\n",
        "x_test_copy_exp = np.exp(x_test_scaled)\n",
        "y_test_copy_exp = np.exp(y_test_scaled)\n",
        "\n",
        "\n",
        "# Fit linear regression models to each transformed dataset\n",
        "model_original=LinearRegression().fit(x_train, y_train)\n",
        "model_log = LinearRegression().fit(x_train_copy_log, y_train_copy_log)\n",
        "model_square = LinearRegression().fit(x_train_copy_square, y_train_copy_square)\n",
        "model_exp = LinearRegression().fit(x_train_copy_exp, y_train_copy_exp)\n",
        "\n",
        "# Predict on the test set for each model\n",
        "y_predict = model_original.predict(x_test)\n",
        "y_predict_log = model_log.predict(x_test_copy_log)\n",
        "y_predict_square = model_square.predict(x_test_copy_square)\n",
        "y_predict_exp = model_exp.predict(y_test_copy_exp)\n",
        "\n",
        "# Calculate RMSE for each transformed dataset\n",
        "rmse = np.sqrt(mean_squared_error(y_test, y_predict))\n",
        "score['original score']=rmse\n",
        "rmse_log = np.sqrt(mean_squared_error(y_test_copy, y_predict_log))\n",
        "score['log tranform']=rmse_log\n",
        "rmse_square = np.sqrt(mean_squared_error(y_test_copy, y_predict_square))\n",
        "score['square tranform']=rmse_square\n",
        "rmse_exp = np.sqrt(mean_squared_error(y_test_copy, y_predict_exp))\n",
        "score['exp tranform']=rmse_exp\n",
        "\n",
        "score = {'original transform': rmse,'log transform': rmse_log, 'square transform': rmse_square, 'exp transform': rmse_exp}\n",
        "\n"
      ]
    },
    {
      "cell_type": "code",
      "execution_count": 31,
      "id": "4b18f6a0",
      "metadata": {},
      "outputs": [
        {
          "name": "stdout",
          "output_type": "stream",
          "text": [
            "{'original transform': 7059.04362190151, 'log transform': 86189.17166928892, 'square transform': 7820020895.10354, 'exp transform': 86197.82547369075}\n"
          ]
        }
      ],
      "source": [
        "print(score)\n"
      ]
    }
  ],
  "metadata": {
    "colab": {
      "provenance": []
    },
    "kernelspec": {
      "display_name": "Python 3 (ipykernel)",
      "language": "python",
      "name": "python3"
    },
    "language_info": {
      "codemirror_mode": {
        "name": "ipython",
        "version": 3
      },
      "file_extension": ".py",
      "mimetype": "text/x-python",
      "name": "python",
      "nbconvert_exporter": "python",
      "pygments_lexer": "ipython3",
      "version": "3.8.8"
    }
  },
  "nbformat": 4,
  "nbformat_minor": 5
}
